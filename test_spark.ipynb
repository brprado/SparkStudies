{
 "cells": [
  {
   "cell_type": "code",
   "execution_count": 1,
   "metadata": {},
   "outputs": [
    {
     "name": "stdout",
     "output_type": "stream",
     "text": [
      "Spark Session Created\n"
     ]
    },
    {
     "data": {
      "text/html": [
       "\n",
       "            <div>\n",
       "                <p><b>SparkSession - in-memory</b></p>\n",
       "                \n",
       "        <div>\n",
       "            <p><b>SparkContext</b></p>\n",
       "\n",
       "            <p><a href=\"http://f9149ed472f0:4041\">Spark UI</a></p>\n",
       "\n",
       "            <dl>\n",
       "              <dt>Version</dt>\n",
       "                <dd><code>v3.3.2</code></dd>\n",
       "              <dt>Master</dt>\n",
       "                <dd><code>local[*]</code></dd>\n",
       "              <dt>AppName</dt>\n",
       "                <dd><code>MinhaAplicacaoSpark</code></dd>\n",
       "            </dl>\n",
       "        </div>\n",
       "        \n",
       "            </div>\n",
       "        "
      ],
      "text/plain": [
       "<pyspark.sql.session.SparkSession at 0x7f8707e18fa0>"
      ]
     },
     "execution_count": 1,
     "metadata": {},
     "output_type": "execute_result"
    }
   ],
   "source": [
    "from pyspark.sql import SparkSession\n",
    "\n",
    "# Cria a sessão Spark\n",
    "spark = (\n",
    "    SparkSession.builder.appName(\"MinhaAplicacaoSpark\")\n",
    "    .master(\"local[*]\")\n",
    "    .config(\"spark.executor.memory\", \"2g\")\n",
    "    .getOrCreate()\n",
    ")\n",
    "print('Spark Session Created')\n",
    "spark"
   ]
  },
  {
   "cell_type": "code",
   "execution_count": null,
   "metadata": {},
   "outputs": [],
   "source": []
  },
  {
   "cell_type": "code",
   "execution_count": 2,
   "metadata": {},
   "outputs": [],
   "source": [
    "df_parquet = spark.read.parquet('data/2024-11-04_temp.parquet')"
   ]
  },
  {
   "cell_type": "code",
   "execution_count": null,
   "metadata": {},
   "outputs": [
    {
     "name": "stdout",
     "output_type": "stream",
     "text": [
      "+--------------+----------------------+--------------------+--------------------------+------------------------+---------+--------------------+-----------+------------------+-----------------+----------+-----------+-----+---------+--------+-----------------+--------------------+--------------------+------------+----------------+---------------------+-------------+-----------------+------------+-----------------+-------------------------+------------+-----------------+------------+----------------+-------------------------+-------------------------+--------------------+--------------------+--------------------+------+--------------------------+---------------------------+--------------------+--------------------+------------+-----------+\n",
      "|empresa_codigo|estabelecimento_codigo|estabelecimento_nome|centro_de_resultado_codigo|centro_de_resultado_nome|matricula|                nome|        cpf|data_de_nascimento|estado_civil_nome|deficiente|deficiencia|idade|     sexo|raca_cor|           nome_1|              e_mail|   email_alternativo|         pis|data_da_admissao|situacao_do_empregado|funcao_codigo|      funcao_nome|cargo_codigo|       cargo_nome|vinculo_empregaticio_nome|salario_tipo|prazo_de_contrato|nro_de_horas|empresa_codigo_1|chefia_imediata_cod_estab|chefia_imediata_matricula|chefia_imediata_nome|       funcao_nome_1|            e_mail_1|codigo|categoria_profissional_cod|categoria_profissional_nome|        razao_social|              nome_2|tipo_de_vaga|dt_extracao|\n",
      "+--------------+----------------------+--------------------+--------------------------+------------------------+---------+--------------------+-----------+------------------+-----------------+----------+-----------+-----+---------+--------+-----------------+--------------------+--------------------+------------+----------------+---------------------+-------------+-----------------+------------+-----------------+-------------------------+------------+-----------------+------------+----------------+-------------------------+-------------------------+--------------------+--------------------+--------------------+------+--------------------------+---------------------------+--------------------+--------------------+------------+-----------+\n",
      "|             3|                     3|ASSOC PARAN CULTU...|                      3541|    ADMINISTRACAO DA ...|        6|     NELSON TREVISAN|    9121900|        04/03/1934|           Casado|       Não|       null|   90|Masculino|  Branca|        Doutorado|nelson.trevisan@p...|nelson.trevisan@p...|1003883555-7|      01/03/1959| Demissão - 06/07/...|       501238|PROFESSOR TITULAR|        5648|PROFESSOR TITULAR|                  Docente|           H|    Indeterminado|      100,00|             3.0|                      3.0|                  27887.0|  ROBSON IVAN STIVAL|PROFESSOR ASSISTENTE|robson.stival@puc...|     1|                         1|       PROFESSORES DO EN...|SIND DOS PROFESSO...|Dispensa sem Just...|           1| 2024-11-04|\n",
      "|             3|                     3|ASSOC PARAN CULTU...|                      3541|    ADMINISTRACAO DA ...|       35|SERGIO FONSECA TARLE|    8044953|        06/09/1938|         Solteiro|       Não|       null|   86|Masculino|  Branca|    Pós Graduação|sergio.tarle@pucp...|                null|1022325191-4|      01/08/1967| Demissão - 06/10/...|       101197|PROFESSOR ADJUNTO|        2197|PROFESSOR ADJUNTO|                  Docente|           H|    Indeterminado|      100,00|             3.0|                      3.0|                  22797.0|KELLY CHRISTINE L...|   PROFESSOR ADJUNTO|kelly.bettio@pucp...|     1|                         1|       PROFESSORES DO EN...|SIND DOS PROFESSO...|               Morte|           1| 2024-11-04|\n",
      "|             3|                     3|ASSOC PARAN CULTU...|                      3498|    ADMINISTRACAO DA ...|       43|        RUBENS VIANA| 1048082920|        19/11/1934|           Casado|       Não|       null|   89|Masculino|  Branca|Educação Superior|rubens.viana@pucp...|rubens.viana@pucp...|1023336836-9|      01/03/1968| Demissão - 08/08/...|       101251|PROFESSOR TITULAR|        2251|PROFESSOR TITULAR|                  Docente|           H|    Indeterminado|      100,00|             3.0|                      3.0|                  22797.0|KELLY CHRISTINE L...|   PROFESSOR ADJUNTO|kelly.bettio@pucp...|     1|                         1|       PROFESSORES DO EN...|SIND DOS PROFESSO...|Dispensa sem Just...|           1| 2024-11-04|\n",
      "|             3|                     3|ASSOC PARAN CULTU...|                      3541|    ADMINISTRACAO DA ...|       64|JOSE GERALDO LOPE...| 3318818968|        26/09/1942|         Solteiro|       Não|       null|   82|Masculino|  Branca|         Mestrado|noronha.jose@pucp...|noronha.jose@pucp...|1022325203-1|      01/05/1970|                ATIVO|       501238|PROFESSOR TITULAR|        5648|PROFESSOR TITULAR|                  Docente|           H|    Indeterminado|      100,00|             3.0|                      3.0|                  24822.0|JEAN RODRIGO TAFAREL|         COORD CURSO|jean.tafarel@pucp...|     1|                         1|       PROFESSORES DO EN...|SIND DOS PROFESSO...|                null|           1| 2024-11-04|\n",
      "|             3|                     3|ASSOC PARAN CULTU...|                        49|    LICENCIATURA EM M...|       66|MANOEL DE CAMPOS ...|14783584915|        17/05/1948|           Casado|       Não|       null|   76|Masculino|  Branca|         Mestrado|     manoel@pucpr.br|                null|1002578677-3|      15/05/1970| Demissão - 01/07/...|       101197|PROFESSOR ADJUNTO|        2197|PROFESSOR ADJUNTO|                  Docente|           H|    Indeterminado|      100,00|             3.0|                      3.0|                  22797.0|KELLY CHRISTINE L...|   PROFESSOR ADJUNTO|kelly.bettio@pucp...|     1|                         1|       PROFESSORES DO EN...|SIND DOS PROFESSO...|Dispensa sem Just...|           1| 2024-11-04|\n",
      "+--------------+----------------------+--------------------+--------------------------+------------------------+---------+--------------------+-----------+------------------+-----------------+----------+-----------+-----+---------+--------+-----------------+--------------------+--------------------+------------+----------------+---------------------+-------------+-----------------+------------+-----------------+-------------------------+------------+-----------------+------------+----------------+-------------------------+-------------------------+--------------------+--------------------+--------------------+------+--------------------------+---------------------------+--------------------+--------------------+------------+-----------+\n",
      "only showing top 5 rows\n",
      "\n"
     ]
    },
    {
     "data": {
      "text/plain": [
       "None"
      ]
     },
     "metadata": {},
     "output_type": "display_data"
    }
   ],
   "source": []
  }
 ],
 "metadata": {
  "kernelspec": {
   "display_name": "Python 3 (ipykernel)",
   "language": "python",
   "name": "python3"
  }
 },
 "nbformat": 4,
 "nbformat_minor": 2
}
