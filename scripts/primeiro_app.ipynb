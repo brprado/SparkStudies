{
 "cells": [
  {
   "cell_type": "code",
   "execution_count": null,
   "metadata": {},
   "outputs": [
    {
     "data": {
      "text/html": [
       "\n",
       "            <div>\n",
       "                <p><b>SparkSession - in-memory</b></p>\n",
       "                \n",
       "        <div>\n",
       "            <p><b>SparkContext</b></p>\n",
       "\n",
       "            <p><a href=\"http://f9149ed472f0:4040\">Spark UI</a></p>\n",
       "\n",
       "            <dl>\n",
       "              <dt>Version</dt>\n",
       "                <dd><code>v3.3.2</code></dd>\n",
       "              <dt>Master</dt>\n",
       "                <dd><code>local[*]</code></dd>\n",
       "              <dt>AppName</dt>\n",
       "                <dd><code>MinhaAplicacaoSpark</code></dd>\n",
       "            </dl>\n",
       "        </div>\n",
       "        \n",
       "            </div>\n",
       "        "
      ],
      "text/plain": [
       "<pyspark.sql.session.SparkSession at 0x7f4199c70fa0>"
      ]
     },
     "execution_count": 3,
     "metadata": {},
     "output_type": "execute_result"
    }
   ],
   "source": [
    "from pyspark.sql import SparkSession\n",
    "\n",
    "# Cria a sessão Spark\n",
    "spark = SparkSession.builder.getOrCreate()\n",
    "spark"
   ]
  },
  {
   "cell_type": "code",
   "execution_count": 4,
   "metadata": {},
   "outputs": [],
   "source": [
    "df_rh = spark.read.parquet('data/2024-11-04_temp.parquet')"
   ]
  },
  {
   "cell_type": "code",
   "execution_count": 6,
   "metadata": {},
   "outputs": [
    {
     "name": "stdout",
     "output_type": "stream",
     "text": [
      "+--------------+----------------------+--------------------+--------------------------+------------------------+---------+--------------------+-----------+------------------+-----------------+----------+-----------+-----+---------+--------+-----------------+--------------------+--------------------+------------+----------------+---------------------+-------------+-----------------+------------+-----------------+-------------------------+------------+-----------------+------------+----------------+-------------------------+-------------------------+--------------------+--------------------+--------------------+------+--------------------------+---------------------------+--------------------+--------------------+------------+-----------+\n",
      "|empresa_codigo|estabelecimento_codigo|estabelecimento_nome|centro_de_resultado_codigo|centro_de_resultado_nome|matricula|                nome|        cpf|data_de_nascimento|estado_civil_nome|deficiente|deficiencia|idade|     sexo|raca_cor|           nome_1|              e_mail|   email_alternativo|         pis|data_da_admissao|situacao_do_empregado|funcao_codigo|      funcao_nome|cargo_codigo|       cargo_nome|vinculo_empregaticio_nome|salario_tipo|prazo_de_contrato|nro_de_horas|empresa_codigo_1|chefia_imediata_cod_estab|chefia_imediata_matricula|chefia_imediata_nome|       funcao_nome_1|            e_mail_1|codigo|categoria_profissional_cod|categoria_profissional_nome|        razao_social|              nome_2|tipo_de_vaga|dt_extracao|\n",
      "+--------------+----------------------+--------------------+--------------------------+------------------------+---------+--------------------+-----------+------------------+-----------------+----------+-----------+-----+---------+--------+-----------------+--------------------+--------------------+------------+----------------+---------------------+-------------+-----------------+------------+-----------------+-------------------------+------------+-----------------+------------+----------------+-------------------------+-------------------------+--------------------+--------------------+--------------------+------+--------------------------+---------------------------+--------------------+--------------------+------------+-----------+\n",
      "|             3|                     3|ASSOC PARAN CULTU...|                      3541|    ADMINISTRACAO DA ...|        6|     NELSON TREVISAN|    9121900|        04/03/1934|           Casado|       Não|       null|   90|Masculino|  Branca|        Doutorado|nelson.trevisan@p...|nelson.trevisan@p...|1003883555-7|      01/03/1959| Demissão - 06/07/...|       501238|PROFESSOR TITULAR|        5648|PROFESSOR TITULAR|                  Docente|           H|    Indeterminado|      100,00|             3.0|                      3.0|                  27887.0|  ROBSON IVAN STIVAL|PROFESSOR ASSISTENTE|robson.stival@puc...|     1|                         1|       PROFESSORES DO EN...|SIND DOS PROFESSO...|Dispensa sem Just...|           1| 2024-11-04|\n",
      "|             3|                     3|ASSOC PARAN CULTU...|                      3541|    ADMINISTRACAO DA ...|       35|SERGIO FONSECA TARLE|    8044953|        06/09/1938|         Solteiro|       Não|       null|   86|Masculino|  Branca|    Pós Graduação|sergio.tarle@pucp...|                null|1022325191-4|      01/08/1967| Demissão - 06/10/...|       101197|PROFESSOR ADJUNTO|        2197|PROFESSOR ADJUNTO|                  Docente|           H|    Indeterminado|      100,00|             3.0|                      3.0|                  22797.0|KELLY CHRISTINE L...|   PROFESSOR ADJUNTO|kelly.bettio@pucp...|     1|                         1|       PROFESSORES DO EN...|SIND DOS PROFESSO...|               Morte|           1| 2024-11-04|\n",
      "|             3|                     3|ASSOC PARAN CULTU...|                      3498|    ADMINISTRACAO DA ...|       43|        RUBENS VIANA| 1048082920|        19/11/1934|           Casado|       Não|       null|   89|Masculino|  Branca|Educação Superior|rubens.viana@pucp...|rubens.viana@pucp...|1023336836-9|      01/03/1968| Demissão - 08/08/...|       101251|PROFESSOR TITULAR|        2251|PROFESSOR TITULAR|                  Docente|           H|    Indeterminado|      100,00|             3.0|                      3.0|                  22797.0|KELLY CHRISTINE L...|   PROFESSOR ADJUNTO|kelly.bettio@pucp...|     1|                         1|       PROFESSORES DO EN...|SIND DOS PROFESSO...|Dispensa sem Just...|           1| 2024-11-04|\n",
      "|             3|                     3|ASSOC PARAN CULTU...|                      3541|    ADMINISTRACAO DA ...|       64|JOSE GERALDO LOPE...| 3318818968|        26/09/1942|         Solteiro|       Não|       null|   82|Masculino|  Branca|         Mestrado|noronha.jose@pucp...|noronha.jose@pucp...|1022325203-1|      01/05/1970|                ATIVO|       501238|PROFESSOR TITULAR|        5648|PROFESSOR TITULAR|                  Docente|           H|    Indeterminado|      100,00|             3.0|                      3.0|                  24822.0|JEAN RODRIGO TAFAREL|         COORD CURSO|jean.tafarel@pucp...|     1|                         1|       PROFESSORES DO EN...|SIND DOS PROFESSO...|                null|           1| 2024-11-04|\n",
      "|             3|                     3|ASSOC PARAN CULTU...|                        49|    LICENCIATURA EM M...|       66|MANOEL DE CAMPOS ...|14783584915|        17/05/1948|           Casado|       Não|       null|   76|Masculino|  Branca|         Mestrado|     manoel@pucpr.br|                null|1002578677-3|      15/05/1970| Demissão - 01/07/...|       101197|PROFESSOR ADJUNTO|        2197|PROFESSOR ADJUNTO|                  Docente|           H|    Indeterminado|      100,00|             3.0|                      3.0|                  22797.0|KELLY CHRISTINE L...|   PROFESSOR ADJUNTO|kelly.bettio@pucp...|     1|                         1|       PROFESSORES DO EN...|SIND DOS PROFESSO...|Dispensa sem Just...|           1| 2024-11-04|\n",
      "+--------------+----------------------+--------------------+--------------------------+------------------------+---------+--------------------+-----------+------------------+-----------------+----------+-----------+-----+---------+--------+-----------------+--------------------+--------------------+------------+----------------+---------------------+-------------+-----------------+------------+-----------------+-------------------------+------------+-----------------+------------+----------------+-------------------------+-------------------------+--------------------+--------------------+--------------------+------+--------------------------+---------------------------+--------------------+--------------------+------------+-----------+\n",
      "only showing top 5 rows\n",
      "\n"
     ]
    }
   ],
   "source": [
    "df_rh.show(5)"
   ]
  },
  {
   "cell_type": "markdown",
   "metadata": {},
   "source": [
    "Schema"
   ]
  },
  {
   "cell_type": "code",
   "execution_count": 8,
   "metadata": {},
   "outputs": [
    {
     "name": "stdout",
     "output_type": "stream",
     "text": [
      "root\n",
      " |-- empresa_codigo: long (nullable = true)\n",
      " |-- estabelecimento_codigo: long (nullable = true)\n",
      " |-- estabelecimento_nome: string (nullable = true)\n",
      " |-- centro_de_resultado_codigo: long (nullable = true)\n",
      " |-- centro_de_resultado_nome: string (nullable = true)\n",
      " |-- matricula: long (nullable = true)\n",
      " |-- nome: string (nullable = true)\n",
      " |-- cpf: long (nullable = true)\n",
      " |-- data_de_nascimento: string (nullable = true)\n",
      " |-- estado_civil_nome: string (nullable = true)\n",
      " |-- deficiente: string (nullable = true)\n",
      " |-- deficiencia: string (nullable = true)\n",
      " |-- idade: long (nullable = true)\n",
      " |-- sexo: string (nullable = true)\n",
      " |-- raca_cor: string (nullable = true)\n",
      " |-- nome_1: string (nullable = true)\n",
      " |-- e_mail: string (nullable = true)\n",
      " |-- email_alternativo: string (nullable = true)\n",
      " |-- pis: string (nullable = true)\n",
      " |-- data_da_admissao: string (nullable = true)\n",
      " |-- situacao_do_empregado: string (nullable = true)\n",
      " |-- funcao_codigo: long (nullable = true)\n",
      " |-- funcao_nome: string (nullable = true)\n",
      " |-- cargo_codigo: long (nullable = true)\n",
      " |-- cargo_nome: string (nullable = true)\n",
      " |-- vinculo_empregaticio_nome: string (nullable = true)\n",
      " |-- salario_tipo: string (nullable = true)\n",
      " |-- prazo_de_contrato: string (nullable = true)\n",
      " |-- nro_de_horas: string (nullable = true)\n",
      " |-- empresa_codigo_1: double (nullable = true)\n",
      " |-- chefia_imediata_cod_estab: double (nullable = true)\n",
      " |-- chefia_imediata_matricula: double (nullable = true)\n",
      " |-- chefia_imediata_nome: string (nullable = true)\n",
      " |-- funcao_nome_1: string (nullable = true)\n",
      " |-- e_mail_1: string (nullable = true)\n",
      " |-- codigo: long (nullable = true)\n",
      " |-- categoria_profissional_cod: long (nullable = true)\n",
      " |-- categoria_profissional_nome: string (nullable = true)\n",
      " |-- razao_social: string (nullable = true)\n",
      " |-- nome_2: string (nullable = true)\n",
      " |-- tipo_de_vaga: long (nullable = true)\n",
      " |-- dt_extracao: string (nullable = true)\n",
      "\n"
     ]
    }
   ],
   "source": [
    "df_rh.printSchema()"
   ]
  },
  {
   "cell_type": "markdown",
   "metadata": {},
   "source": [
    "Colunas"
   ]
  },
  {
   "cell_type": "code",
   "execution_count": 9,
   "metadata": {},
   "outputs": [
    {
     "data": {
      "text/plain": [
       "['empresa_codigo',\n",
       " 'estabelecimento_codigo',\n",
       " 'estabelecimento_nome',\n",
       " 'centro_de_resultado_codigo',\n",
       " 'centro_de_resultado_nome',\n",
       " 'matricula',\n",
       " 'nome',\n",
       " 'cpf',\n",
       " 'data_de_nascimento',\n",
       " 'estado_civil_nome',\n",
       " 'deficiente',\n",
       " 'deficiencia',\n",
       " 'idade',\n",
       " 'sexo',\n",
       " 'raca_cor',\n",
       " 'nome_1',\n",
       " 'e_mail',\n",
       " 'email_alternativo',\n",
       " 'pis',\n",
       " 'data_da_admissao',\n",
       " 'situacao_do_empregado',\n",
       " 'funcao_codigo',\n",
       " 'funcao_nome',\n",
       " 'cargo_codigo',\n",
       " 'cargo_nome',\n",
       " 'vinculo_empregaticio_nome',\n",
       " 'salario_tipo',\n",
       " 'prazo_de_contrato',\n",
       " 'nro_de_horas',\n",
       " 'empresa_codigo_1',\n",
       " 'chefia_imediata_cod_estab',\n",
       " 'chefia_imediata_matricula',\n",
       " 'chefia_imediata_nome',\n",
       " 'funcao_nome_1',\n",
       " 'e_mail_1',\n",
       " 'codigo',\n",
       " 'categoria_profissional_cod',\n",
       " 'categoria_profissional_nome',\n",
       " 'razao_social',\n",
       " 'nome_2',\n",
       " 'tipo_de_vaga',\n",
       " 'dt_extracao']"
      ]
     },
     "execution_count": 9,
     "metadata": {},
     "output_type": "execute_result"
    }
   ],
   "source": [
    "df_rh.columns"
   ]
  },
  {
   "cell_type": "markdown",
   "metadata": {},
   "source": [
    "Contagem de linhas e colunas"
   ]
  },
  {
   "cell_type": "code",
   "execution_count": 13,
   "metadata": {},
   "outputs": [
    {
     "data": {
      "text/plain": [
       "(16265, 42)"
      ]
     },
     "execution_count": 13,
     "metadata": {},
     "output_type": "execute_result"
    }
   ],
   "source": [
    "df_rh.count(), len(df_rh.columns)"
   ]
  },
  {
   "cell_type": "markdown",
   "metadata": {},
   "source": [
    "selecionando colunas"
   ]
  },
  {
   "cell_type": "code",
   "execution_count": null,
   "metadata": {},
   "outputs": [
    {
     "name": "stdout",
     "output_type": "stream",
     "text": [
      "+--------------------+-----------+----------------+\n",
      "|                nome|        cpf|data_da_admissao|\n",
      "+--------------------+-----------+----------------+\n",
      "|     NELSON TREVISAN|    9121900|      01/03/1959|\n",
      "|SERGIO FONSECA TARLE|    8044953|      01/08/1967|\n",
      "|        RUBENS VIANA| 1048082920|      01/03/1968|\n",
      "|JOSE GERALDO LOPE...| 3318818968|      01/05/1970|\n",
      "|MANOEL DE CAMPOS ...|14783584915|      15/05/1970|\n",
      "|ALBONI MARISA DUD...|14732300987|      01/03/1971|\n",
      "|FERNANDO LOPES MA...|  407771972|      01/12/1972|\n",
      "|PAULO ZELTER GRUP...|   50377949|      01/03/1974|\n",
      "|MARILDA APARECIDA...|25369172900|      01/05/1974|\n",
      "|LILA MARIA BODZINSKI|32230850920|      01/05/1974|\n",
      "|IGNACIO KOKUKA FILHO|13949241949|      01/03/1975|\n",
      "|FERNANDO ANTONIO ...|14721341920|      03/03/1975|\n",
      "|CARLOS CASTELLO B...|20098090925|      01/08/1975|\n",
      "|ALVACIR ALFREDO NICZ|  232203920|      01/03/1976|\n",
      "|      ALOISIO SURGIK|11036311953|      01/03/1976|\n",
      "|LEONARDO TOSSIAKI...|15592073968|      01/03/1976|\n",
      "|LUIZ CARLOS SOUZA...|  708526934|      01/03/1977|\n",
      "|FERNANDO ROGERIO ...|  589900978|      01/08/1977|\n",
      "|  EZIA MARIA CORRADI|32239068949|      22/08/1977|\n",
      "|JANETE MARQUES DA...|31735207934|      01/11/1977|\n",
      "+--------------------+-----------+----------------+\n",
      "only showing top 20 rows\n",
      "\n"
     ]
    }
   ],
   "source": [
    "df_rh.select(\"nome\",'cpf','data_da_admissao').show()"
   ]
  },
  {
   "cell_type": "markdown",
   "metadata": {},
   "source": [
    "Select Expression"
   ]
  },
  {
   "cell_type": "code",
   "execution_count": 23,
   "metadata": {},
   "outputs": [
    {
     "name": "stdout",
     "output_type": "stream",
     "text": [
      "+--------------------+-----------+-------------+\n",
      "|    nome_colaborador|        cpf|data_admissao|\n",
      "+--------------------+-----------+-------------+\n",
      "|     NELSON TREVISAN|    9121900|   01/03/1959|\n",
      "|SERGIO FONSECA TARLE|    8044953|   01/08/1967|\n",
      "|        RUBENS VIANA| 1048082920|   01/03/1968|\n",
      "|JOSE GERALDO LOPE...| 3318818968|   01/05/1970|\n",
      "|MANOEL DE CAMPOS ...|14783584915|   15/05/1970|\n",
      "|ALBONI MARISA DUD...|14732300987|   01/03/1971|\n",
      "|FERNANDO LOPES MA...|  407771972|   01/12/1972|\n",
      "|PAULO ZELTER GRUP...|   50377949|   01/03/1974|\n",
      "|MARILDA APARECIDA...|25369172900|   01/05/1974|\n",
      "|LILA MARIA BODZINSKI|32230850920|   01/05/1974|\n",
      "|IGNACIO KOKUKA FILHO|13949241949|   01/03/1975|\n",
      "|FERNANDO ANTONIO ...|14721341920|   03/03/1975|\n",
      "|CARLOS CASTELLO B...|20098090925|   01/08/1975|\n",
      "|ALVACIR ALFREDO NICZ|  232203920|   01/03/1976|\n",
      "|      ALOISIO SURGIK|11036311953|   01/03/1976|\n",
      "|LEONARDO TOSSIAKI...|15592073968|   01/03/1976|\n",
      "|LUIZ CARLOS SOUZA...|  708526934|   01/03/1977|\n",
      "|FERNANDO ROGERIO ...|  589900978|   01/08/1977|\n",
      "|  EZIA MARIA CORRADI|32239068949|   22/08/1977|\n",
      "|JANETE MARQUES DA...|31735207934|   01/11/1977|\n",
      "+--------------------+-----------+-------------+\n",
      "only showing top 20 rows\n",
      "\n"
     ]
    }
   ],
   "source": [
    "df_rh.selectExpr('nome as nome_colaborador','cpf','data_da_admissao as data_admissao').show()"
   ]
  },
  {
   "cell_type": "markdown",
   "metadata": {},
   "source": [
    "Filter"
   ]
  },
  {
   "cell_type": "code",
   "execution_count": 35,
   "metadata": {},
   "outputs": [
    {
     "name": "stdout",
     "output_type": "stream",
     "text": [
      "+--------------+----------------------+--------------------+--------------------------+------------------------+---------+--------------------+-----------+------------------+-----------------+----------+-----------+-----+---------+--------+-----------------+--------------------+--------------------+------------+----------------+---------------------+-------------+--------------------+------------+--------------------+-------------------------+------------+-----------------+------------+----------------+-------------------------+-------------------------+--------------------+--------------------+--------------------+------+--------------------------+---------------------------+--------------------+------+------------+-----------+\n",
      "|empresa_codigo|estabelecimento_codigo|estabelecimento_nome|centro_de_resultado_codigo|centro_de_resultado_nome|matricula|                nome|        cpf|data_de_nascimento|estado_civil_nome|deficiente|deficiencia|idade|     sexo|raca_cor|           nome_1|              e_mail|   email_alternativo|         pis|data_da_admissao|situacao_do_empregado|funcao_codigo|         funcao_nome|cargo_codigo|          cargo_nome|vinculo_empregaticio_nome|salario_tipo|prazo_de_contrato|nro_de_horas|empresa_codigo_1|chefia_imediata_cod_estab|chefia_imediata_matricula|chefia_imediata_nome|       funcao_nome_1|            e_mail_1|codigo|categoria_profissional_cod|categoria_profissional_nome|        razao_social|nome_2|tipo_de_vaga|dt_extracao|\n",
      "+--------------+----------------------+--------------------+--------------------------+------------------------+---------+--------------------+-----------+------------------+-----------------+----------+-----------+-----+---------+--------+-----------------+--------------------+--------------------+------------+----------------+---------------------+-------------+--------------------+------------+--------------------+-------------------------+------------+-----------------+------------+----------------+-------------------------+-------------------------+--------------------+--------------------+--------------------+------+--------------------------+---------------------------+--------------------+------+------------+-----------+\n",
      "|             3|                     1|ASSOCIACAO PARANA...|                    105835|    Gerência de Intel...|    19634|RODOLFO PIROLO GA...|26106760268|        22/06/1967|           Casado|       Não|       null|   57|Masculino|  Branca|Educação Superior|rodolfo.p@grupoma...|rodolfo.pirolo@gm...|1219191993-8|      01/09/2002|                ATIVO|       501780|CONSULTOR INTELIG...|        7033|CONSULTOR INTELIG...|          Trabalhador CLT|           M|    Indeterminado|      220,00|             3.0|                      1.0|              9.0007169E7|ERIC RICARDO ALVE...|GTE INTELIGENCIA ...|eric.inamorato@gr...|     5|                         3|       AUX DE ADMINISTRA...|SIND DOS AUX ADM ...|  null|           1| 2024-11-04|\n",
      "+--------------+----------------------+--------------------+--------------------------+------------------------+---------+--------------------+-----------+------------------+-----------------+----------+-----------+-----+---------+--------+-----------------+--------------------+--------------------+------------+----------------+---------------------+-------------+--------------------+------------+--------------------+-------------------------+------------+-----------------+------------+----------------+-------------------------+-------------------------+--------------------+--------------------+--------------------+------+--------------------------+---------------------------+--------------------+------+------------+-----------+\n",
      "\n"
     ]
    },
    {
     "data": {
      "text/plain": [
       "DataFrame[empresa_codigo: bigint, estabelecimento_codigo: bigint, estabelecimento_nome: string, centro_de_resultado_codigo: bigint, centro_de_resultado_nome: string, matricula: bigint, nome: string, cpf: bigint, data_de_nascimento: string, estado_civil_nome: string, deficiente: string, deficiencia: string, idade: bigint, sexo: string, raca_cor: string, nome_1: string, e_mail: string, email_alternativo: string, pis: string, data_da_admissao: string, situacao_do_empregado: string, funcao_codigo: bigint, funcao_nome: string, cargo_codigo: bigint, cargo_nome: string, vinculo_empregaticio_nome: string, salario_tipo: string, prazo_de_contrato: string, nro_de_horas: string, empresa_codigo_1: double, chefia_imediata_cod_estab: double, chefia_imediata_matricula: double, chefia_imediata_nome: string, funcao_nome_1: string, e_mail_1: string, codigo: bigint, categoria_profissional_cod: bigint, categoria_profissional_nome: string, razao_social: string, nome_2: string, tipo_de_vaga: bigint, dt_extracao: string]"
      ]
     },
     "execution_count": 35,
     "metadata": {},
     "output_type": "execute_result"
    }
   ],
   "source": [
    "df_rh.filter(df_rh.nome == 'RODOLFO PIROLO GATZKE').show()\n",
    "\n",
    "# equivalente ao like\n",
    "df_rh.filter(df_rh.nome.contains('PIROLO'))\n",
    "\n",
    "# equivalente ao like usando expressao regular (regex)\n",
    "df_rh.filter(df_rh.nome.rlike(\".*PIROLO.*\"))"
   ]
  },
  {
   "cell_type": "markdown",
   "metadata": {},
   "source": [
    "GroupBy + Order By"
   ]
  },
  {
   "cell_type": "code",
   "execution_count": 47,
   "metadata": {},
   "outputs": [
    {
     "name": "stdout",
     "output_type": "stream",
     "text": [
      "+------------------------+-----+\n",
      "|centro_de_resultado_nome|count|\n",
      "+------------------------+-----+\n",
      "|    EQUIPE DE UNIDADE...|  732|\n",
      "|    ADMINISTRACAO DA ...|  684|\n",
      "|    EQUIPE DE UNIDADE...|  589|\n",
      "|    EQUIPE DE TERAPIA...|  475|\n",
      "|    RESIDENCIA   MEDI...|  410|\n",
      "|      PRONTO SOCORRO HUC|  303|\n",
      "|    CENTRO CIRURGICO HUC|  263|\n",
      "|         FARMACIA AS HMC|  258|\n",
      "|    ADMINISTRACAO DA ...|  247|\n",
      "|    ADMINISTRACAO DA ...|  244|\n",
      "|            FARMACIA HUC|  231|\n",
      "|    PRONTO ATENDIMENT...|  226|\n",
      "|    CENTRO CIRURGICO HMC|  211|\n",
      "|    ADMINISTRACAO DO ...|  190|\n",
      "|    CENTRAL DE ESTERI...|  183|\n",
      "|    ADMINISTRACAO DA ...|  164|\n",
      "|    Unidade de Terapi...|  155|\n",
      "|    MEDICINA - REG. S...|  141|\n",
      "|    Unidade de Terapi...|  139|\n",
      "|    UNIDADE DE TERAPI...|  122|\n",
      "+------------------------+-----+\n",
      "only showing top 20 rows\n",
      "\n"
     ]
    }
   ],
   "source": [
    "df_rh.groupBy('centro_de_resultado_nome').count().orderBy('count',ascending=False).show()\n"
   ]
  },
  {
   "cell_type": "code",
   "execution_count": null,
   "metadata": {},
   "outputs": [],
   "source": []
  }
 ],
 "metadata": {
  "kernelspec": {
   "display_name": "Python 3 (ipykernel)",
   "language": "python",
   "name": "python3"
  },
  "language_info": {
   "codemirror_mode": {
    "name": "ipython",
    "version": 3
   },
   "file_extension": ".py",
   "mimetype": "text/x-python",
   "name": "python",
   "nbconvert_exporter": "python",
   "pygments_lexer": "ipython3",
   "version": "3.10.10"
  }
 },
 "nbformat": 4,
 "nbformat_minor": 2
}
